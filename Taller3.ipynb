{
 "cells": [
  {
   "cell_type": "code",
   "execution_count": 36,
   "metadata": {},
   "outputs": [],
   "source": [
    "import bs4 as bs\n",
    "import urllib.request\n",
    "import re"
   ]
  },
  {
   "cell_type": "markdown",
   "metadata": {},
   "source": [
    "### 1. Hacer Web Scraping de 10 animales en Wikipedia, obtener el encabezado de cada animal, obtener todos los textos que están en las etiquetas de negrilla (en bucle)."
   ]
  },
  {
   "cell_type": "code",
   "execution_count": 37,
   "metadata": {},
   "outputs": [],
   "source": [
    "w_pedia_link=\"https://es.wikipedia.org/wiki/\" #Direccion base de wikipedia"
   ]
  },
  {
   "cell_type": "code",
   "execution_count": 38,
   "metadata": {},
   "outputs": [],
   "source": [
    "#Lista de animales\n",
    "animales=[\"zorro\", \"gato\", \"gallina\", \"oso\", \"pantera\", \"orangutan\", \"mono\", \"chimpance\", \"Caballo\", \"Armadillo\"]"
   ]
  },
  {
   "cell_type": "code",
   "execution_count": 39,
   "metadata": {
    "scrolled": true
   },
   "outputs": [
    {
     "name": "stdout",
     "output_type": "stream",
     "text": [
      "https://es.wikipedia.org/wiki/zorro\n",
      "***///***///****///***///***///****///***///***///****///***///***///****///\n",
      "\n",
      "Animal = zorro\n",
      "Encabezado =  Vulpini\n",
      "-----------------------------\n",
      "Palabras en negrilla:\n",
      "vulpinos\n",
      "Vulpini\n",
      "zorros\n",
      "raposas\n",
      "https://es.wikipedia.org/wiki/gato\n",
      "***///***///****///***///***///****///***///***///****///***///***///****///\n",
      "\n",
      "Animal = gato\n",
      "Encabezado =  Felis silvestris catus\n",
      "-----------------------------\n",
      "Palabras en negrilla:\n",
      "gato doméstico\n",
      "Felis silvestris catus\n",
      "gato\n",
      "minino\n",
      "michino\n",
      "michi\n",
      "micho\n",
      "mizo\n",
      "miz\n",
      "morroño\n",
      "morrongo\n",
      "https://es.wikipedia.org/wiki/gallina\n",
      "***///***///****///***///***///****///***///***///****///***///***///****///\n",
      "\n",
      "Animal = gallina\n",
      "Encabezado =  Gallus gallus domesticus\n",
      "-----------------------------\n",
      "Palabras en negrilla:\n",
      "gallo\n",
      "gallina\n",
      "Gallus gallus domesticus\n",
      "gallo\n",
      "gallina\n",
      "pollo\n",
      "https://es.wikipedia.org/wiki/oso\n",
      "***///***///****///***///***///****///***///***///****///***///***///****///\n",
      "\n",
      "Animal = oso\n",
      "Encabezado =  Ursidae\n",
      "-----------------------------\n",
      "Palabras en negrilla:\n",
      "osos\n",
      "úrsidos\n",
      "Ursidae\n",
      "https://es.wikipedia.org/wiki/pantera\n",
      "***///***///****///***///***///****///***///***///****///***///***///****///\n",
      "\n",
      "Animal = pantera\n",
      "Encabezado =  Pantera\n",
      "-----------------------------\n",
      "Palabras en negrilla:\n",
      "Pantera\n",
      "https://es.wikipedia.org/wiki/orangutan\n",
      "***///***///****///***///***///****///***///***///****///***///***///****///\n",
      "\n",
      "Animal = orangutan\n",
      "Encabezado =  Pongo\n",
      "-----------------------------\n",
      "Palabras en negrilla:\n",
      "orangutanes\n",
      "Pongo\n",
      "https://es.wikipedia.org/wiki/mono\n",
      "***///***///****///***///***///****///***///***///****///***///***///****///\n",
      "\n",
      "Animal = mono\n",
      "Encabezado =  Mono\n",
      "-----------------------------\n",
      "Palabras en negrilla:\n",
      "mono\n",
      "https://es.wikipedia.org/wiki/chimpance\n",
      "***///***///****///***///***///****///***///***///****///***///***///****///\n",
      "\n",
      "Animal = chimpance\n",
      "Encabezado =  Pan (animal)\n",
      "-----------------------------\n",
      "Palabras en negrilla:\n",
      "Pan\n",
      "chimpancé\n",
      "bonobo\n",
      "https://es.wikipedia.org/wiki/Caballo\n",
      "***///***///****///***///***///****///***///***///****///***///***///****///\n",
      "\n",
      "Animal = Caballo\n",
      "Encabezado =  Equus ferus caballus\n",
      "-----------------------------\n",
      "Palabras en negrilla:\n",
      "caballo\n",
      "Equus ferus caballus\n",
      "https://es.wikipedia.org/wiki/Armadillo\n",
      "***///***///****///***///***///****///***///***///****///***///***///****///\n",
      "\n",
      "Animal = Armadillo\n",
      "Encabezado =  Dasypodidae\n",
      "-----------------------------\n",
      "Palabras en negrilla:\n",
      "dasipódidos\n",
      "Dasypodidae\n",
      "armadillos\n"
     ]
    }
   ],
   "source": [
    "BoldWords=\"\"\n",
    "\n",
    "encabezado=[] #Variable para guardar los encabezados\n",
    "for animal in animales:\n",
    "    link_con_animal=w_pedia_link+str(animal) #añadir el animal al a direccion base\n",
    "    print(link_con_animal) #imprimir la direcion completa\n",
    "    print(\"***///***///****///***///***///****///***///***///****///***///***///****///\\n\")\n",
    "    request=urllib.request.Request(link_con_animal, headers={'User-Agent': 'Mozilla/5.0'}) #Navegar\n",
    "    webpage= urllib.request.urlopen(request)\n",
    "    source = webpage.read()\n",
    "    webpage.close()\n",
    "    soup_animal=bs.BeautifulSoup(source, 'html.parser')#guardar el codigo de la pagina\n",
    "    Nombre=soup_animal.find('h1', class_=\"firstHeading\").get_text() #Obtener el texto del encabezado por tag H1\n",
    "   \n",
    "    encabezado.append(Nombre) #Añadir cada encabezado a la lista de encabezados creada arriba\n",
    "    \n",
    "    print('Animal =', animal)\n",
    "    print('Encabezado = ', Nombre)\n",
    "    print(\"-----------------------------\")\n",
    "    print('Palabras en negrilla:')\n",
    "    parrafo=soup_animal.find_all('p') #Buscar los parrafos\n",
    "    negrilla=parrafo[0].find_all('b') #Buscar palabas en negrilla <b> en el primer parrafo\n",
    "    \n",
    "    if len(parrafo[0])<3: # verificar si la descripcion esta en el primero o segundo parrafo\n",
    "        negrilla=parrafo[1].find_all('b')\n",
    "        \n",
    "    for i in negrilla: # limpiar el texto de cada palabra en negrilla del parrafo\n",
    "        animalito=str(i) # Convertir de objeto a string\n",
    "        animalito=animalito[3:-4] # Retirar las etiquetas <b> y </b> del cada palabra\n",
    "        print(animalito)\n",
    "        BoldWords=BoldWords+animalito+\", \" #Añadir cada palabra en negrilla a la cadena para usar en el punto 2   \n",
    "\n",
    "    \n",
    "\n",
    "\n"
   ]
  },
  {
   "cell_type": "markdown",
   "metadata": {},
   "source": [
    "### 2. Reemplazar caracteres especiales por asteriscos (*)"
   ]
  },
  {
   "cell_type": "code",
   "execution_count": 40,
   "metadata": {},
   "outputs": [],
   "source": [
    "texto=BoldWords\n",
    "patron = r\"[áéíóúñ]\"\n",
    "CadSinEsp=re.sub(patron, \"*\", texto)"
   ]
  },
  {
   "cell_type": "code",
   "execution_count": 41,
   "metadata": {},
   "outputs": [
    {
     "name": "stdout",
     "output_type": "stream",
     "text": [
      "Cadena original\n",
      "vulpinos, Vulpini, zorros, raposas, gato doméstico, Felis silvestris catus, gato, minino, michino, michi, micho, mizo, miz, morroño, morrongo, gallo, gallina, Gallus gallus domesticus, gallo, gallina, pollo, osos, úrsidos, Ursidae, Pantera, orangutanes, Pongo, mono, Pan, chimpancé, bonobo, caballo, Equus ferus caballus, dasipódidos, Dasypodidae, armadillos, \n",
      "\n",
      "Cadena sin caracteres especiales\n",
      "vulpinos, Vulpini, zorros, raposas, gato dom*stico, Felis silvestris catus, gato, minino, michino, michi, micho, mizo, miz, morro*o, morrongo, gallo, gallina, Gallus gallus domesticus, gallo, gallina, pollo, osos, *rsidos, Ursidae, Pantera, orangutanes, Pongo, mono, Pan, chimpanc*, bonobo, caballo, Equus ferus caballus, dasip*didos, Dasypodidae, armadillos, \n"
     ]
    }
   ],
   "source": [
    "print(\"Cadena original\")\n",
    "print(BoldWords+\"\\n\")\n",
    "print(\"Cadena sin caracteres especiales\")\n",
    "print(CadSinEsp)"
   ]
  }
 ],
 "metadata": {
  "kernelspec": {
   "display_name": "Python 3",
   "language": "python",
   "name": "python3"
  },
  "language_info": {
   "codemirror_mode": {
    "name": "ipython",
    "version": 3
   },
   "file_extension": ".py",
   "mimetype": "text/x-python",
   "name": "python",
   "nbconvert_exporter": "python",
   "pygments_lexer": "ipython3",
   "version": "3.8.5"
  }
 },
 "nbformat": 4,
 "nbformat_minor": 4
}
